{
 "cells": [
  {
   "cell_type": "markdown",
   "metadata": {},
   "source": [
    "```\n",
    "using python3.11.0\n",
    "In docker we need:\n",
    "\n",
    "apt get curl\n",
    "curl https://ollama.com/install.sh | sh\n",
    "ollama serve &\n",
    "ollama pull llama3.2:1b\n",
    "\n",
    "\n",
    "\n",
    "```"
   ]
  },
  {
   "cell_type": "code",
   "execution_count": 1,
   "metadata": {},
   "outputs": [
    {
     "name": "stdout",
     "output_type": "stream",
     "text": [
      "Collection 'chat_with_docs' not found. Creating it now...\n"
     ]
    },
    {
     "data": {
      "application/vnd.jupyter.widget-view+json": {
       "model_id": "ad77122b52df42d3bef0d98074cffe1f",
       "version_major": 2,
       "version_minor": 0
      },
      "text/plain": [
       "modules.json:   0%|          | 0.00/349 [00:00<?, ?B/s]"
      ]
     },
     "metadata": {},
     "output_type": "display_data"
    },
    {
     "name": "stderr",
     "output_type": "stream",
     "text": [
      "c:\\Users\\Bidhi\\AppData\\Local\\Programs\\Python\\Python311\\Lib\\site-packages\\huggingface_hub\\file_download.py:142: UserWarning: `huggingface_hub` cache-system uses symlinks by default to efficiently store duplicated files but your machine does not support them in C:\\Users\\Bidhi\\AppData\\Local\\llama_index\\models--BAAI--bge-large-en-v1.5. Caching files will still work but in a degraded version that might require more space on your disk. This warning can be disabled by setting the `HF_HUB_DISABLE_SYMLINKS_WARNING` environment variable. For more details, see https://huggingface.co/docs/huggingface_hub/how-to-cache#limitations.\n",
      "To support symlinks on Windows, you either need to activate Developer Mode or to run Python as an administrator. In order to activate developer mode, see this article: https://docs.microsoft.com/en-us/windows/apps/get-started/enable-your-device-for-development\n",
      "  warnings.warn(message)\n"
     ]
    },
    {
     "data": {
      "application/vnd.jupyter.widget-view+json": {
       "model_id": "b82cf70443af46dbbbf02a61e920b657",
       "version_major": 2,
       "version_minor": 0
      },
      "text/plain": [
       "config_sentence_transformers.json:   0%|          | 0.00/124 [00:00<?, ?B/s]"
      ]
     },
     "metadata": {},
     "output_type": "display_data"
    },
    {
     "data": {
      "application/vnd.jupyter.widget-view+json": {
       "model_id": "dadc8cfa73f542f9b6b5ec31f75757d0",
       "version_major": 2,
       "version_minor": 0
      },
      "text/plain": [
       "README.md:   0%|          | 0.00/94.6k [00:00<?, ?B/s]"
      ]
     },
     "metadata": {},
     "output_type": "display_data"
    },
    {
     "data": {
      "application/vnd.jupyter.widget-view+json": {
       "model_id": "57416b1a7fd54186beebc374ffcac4f0",
       "version_major": 2,
       "version_minor": 0
      },
      "text/plain": [
       "sentence_bert_config.json:   0%|          | 0.00/52.0 [00:00<?, ?B/s]"
      ]
     },
     "metadata": {},
     "output_type": "display_data"
    },
    {
     "data": {
      "application/vnd.jupyter.widget-view+json": {
       "model_id": "7dac184e14804886a28f2ba8c2a7a525",
       "version_major": 2,
       "version_minor": 0
      },
      "text/plain": [
       "config.json:   0%|          | 0.00/779 [00:00<?, ?B/s]"
      ]
     },
     "metadata": {},
     "output_type": "display_data"
    },
    {
     "data": {
      "application/vnd.jupyter.widget-view+json": {
       "model_id": "35ea56497e704cc6973ae50b3f68ea7e",
       "version_major": 2,
       "version_minor": 0
      },
      "text/plain": [
       "model.safetensors:   0%|          | 0.00/1.34G [00:00<?, ?B/s]"
      ]
     },
     "metadata": {},
     "output_type": "display_data"
    },
    {
     "data": {
      "application/vnd.jupyter.widget-view+json": {
       "model_id": "2c164780c7a74719a94c5ab4063bbf38",
       "version_major": 2,
       "version_minor": 0
      },
      "text/plain": [
       "tokenizer_config.json:   0%|          | 0.00/366 [00:00<?, ?B/s]"
      ]
     },
     "metadata": {},
     "output_type": "display_data"
    },
    {
     "data": {
      "application/vnd.jupyter.widget-view+json": {
       "model_id": "8c3db0a10d8048daa183a45210d17f18",
       "version_major": 2,
       "version_minor": 0
      },
      "text/plain": [
       "vocab.txt:   0%|          | 0.00/232k [00:00<?, ?B/s]"
      ]
     },
     "metadata": {},
     "output_type": "display_data"
    },
    {
     "data": {
      "application/vnd.jupyter.widget-view+json": {
       "model_id": "5b338c2985074aea8fb6612230634557",
       "version_major": 2,
       "version_minor": 0
      },
      "text/plain": [
       "tokenizer.json:   0%|          | 0.00/711k [00:00<?, ?B/s]"
      ]
     },
     "metadata": {},
     "output_type": "display_data"
    },
    {
     "data": {
      "application/vnd.jupyter.widget-view+json": {
       "model_id": "2a90281170164e7aa033f34d8d6c153e",
       "version_major": 2,
       "version_minor": 0
      },
      "text/plain": [
       "special_tokens_map.json:   0%|          | 0.00/125 [00:00<?, ?B/s]"
      ]
     },
     "metadata": {},
     "output_type": "display_data"
    },
    {
     "data": {
      "application/vnd.jupyter.widget-view+json": {
       "model_id": "3aabf63ffc3c40fe8d42bf8358f7c8bb",
       "version_major": 2,
       "version_minor": 0
      },
      "text/plain": [
       "1_Pooling%2Fconfig.json:   0%|          | 0.00/191 [00:00<?, ?B/s]"
      ]
     },
     "metadata": {},
     "output_type": "display_data"
    },
    {
     "name": "stdout",
     "output_type": "stream",
     "text": [
      "Created collection 'chat_with_docs'\n",
      "Loaded 32 documents\n",
      "Creating vector store...\n",
      "Setting up storage context...\n",
      "Building index from documents (this may take a while)...\n",
      "Index creation complete!\n",
      "Successfully created index!\n"
     ]
    }
   ],
   "source": [
    "import nest_asyncio\n",
    "nest_asyncio.apply()\n",
    "\n",
    "import qdrant_client\n",
    "from qdrant_client.models import VectorParams, Distance\n",
    "from llama_index.core import SimpleDirectoryReader, VectorStoreIndex, ServiceContext, StorageContext\n",
    "from llama_index.vector_stores.qdrant import QdrantVectorStore\n",
    "from llama_index.embeddings.huggingface import HuggingFaceEmbedding\n",
    "from llama_index.core import Settings\n",
    "\n",
    "# Define collection name\n",
    "collection_name = \"chat_with_docs\"\n",
    "\n",
    "# Connect to Qdrant\n",
    "try:\n",
    "    client = qdrant_client.QdrantClient(\n",
    "        host=\"host.docker.internal\",\n",
    "        port=6333\n",
    "    )\n",
    "    # Test connection by getting collection info\n",
    "    try:\n",
    "        client.get_collection(collection_name)\n",
    "        print(f\"Successfully connected to Qdrant and found collection '{collection_name}'\")\n",
    "    except Exception as e:\n",
    "        print(f\"Collection '{collection_name}' not found. Creating it now...\")\n",
    "        # Get the dimension from your embedding model\n",
    "        embed_model = HuggingFaceEmbedding(model_name=\"BAAI/bge-large-en-v1.5\",\n",
    "                                          trust_remote_code=True)\n",
    "        embedding_dimension = 1024  # bge-large-en-v1.5 uses 1024 dimensions\n",
    "        \n",
    "        # Create the collection with proper format using VectorParams\n",
    "        client.create_collection(\n",
    "            collection_name=collection_name,\n",
    "            vectors_config=VectorParams(\n",
    "                size=embedding_dimension,\n",
    "                distance=Distance.COSINE\n",
    "            )\n",
    "        )\n",
    "        print(f\"Created collection '{collection_name}'\")\n",
    "except Exception as e:\n",
    "    print(f\"Error connecting to Qdrant: {e}\")\n",
    "    print(\"\\nPossible solutions:\")\n",
    "    print(\"1. Make sure Qdrant is running locally with: docker run -p 6333:6333 qdrant/qdrant\")\n",
    "    print(\"2. Check if port 6333 is not blocked by firewall\")\n",
    "    print(\"3. Verify no other application is using port 6333\")\n",
    "    raise\n",
    "\n",
    "# Load documents\n",
    "input_dir_path = './docs'\n",
    "loader = SimpleDirectoryReader(\n",
    "    input_dir=input_dir_path,\n",
    "    required_exts=[\".pdf\"],\n",
    "    recursive=True\n",
    ")\n",
    "docs = loader.load_data()\n",
    "print(f\"Loaded {len(docs)} documents\")\n",
    "\n",
    "# Set up embedding model\n",
    "embed_model = HuggingFaceEmbedding(model_name=\"BAAI/bge-large-en-v1.5\",\n",
    "                                  trust_remote_code=True)\n",
    "Settings.embed_model = embed_model\n",
    "\n",
    "# Create index function\n",
    "def create_index(documents):\n",
    "    print(\"Creating vector store...\")\n",
    "    vector_store = QdrantVectorStore(client=client,\n",
    "                                    collection_name=collection_name)\n",
    "    \n",
    "    print(\"Setting up storage context...\")\n",
    "    storage_context = StorageContext.from_defaults(vector_store=vector_store)\n",
    "    \n",
    "    print(\"Building index from documents (this may take a while)...\")\n",
    "    index = VectorStoreIndex.from_documents(documents,\n",
    "                                           storage_context=storage_context)\n",
    "    \n",
    "    print(\"Index creation complete!\")\n",
    "    return index\n",
    "\n",
    "# Create the index\n",
    "try:\n",
    "    index = create_index(docs)\n",
    "    print(\"Successfully created index!\")\n",
    "except Exception as e:\n",
    "    print(f\"Error creating index: {e}\")\n",
    "    raise"
   ]
  },
  {
   "cell_type": "markdown",
   "metadata": {},
   "source": [
    "    ```\n",
    "    client = qdrant_client.QdrantClient(\n",
    "        host=\"host.docker.internal\",\n",
    "        port=6333\n",
    "    )\n",
    "\n",
    "    ```\n",
    "    This is running on the host where docker is mounted! need to make it locally within one docker container!"
   ]
  },
  {
   "cell_type": "code",
   "execution_count": 2,
   "metadata": {},
   "outputs": [],
   "source": [
    "from llama_index.llms.ollama import Ollama\n",
    "from llama_index.core import Settings\n",
    "\n",
    "llm = Ollama(model=\"llama3.2:1b\", request_timeout=120.0)\n",
    "\n",
    "Settings.llm = llm"
   ]
  },
  {
   "cell_type": "code",
   "execution_count": 3,
   "metadata": {},
   "outputs": [],
   "source": [
    "from llama_index.core import PromptTemplate\n",
    "\n",
    "template = \"\"\"Context information is below:\n",
    "              ---------------------\n",
    "              {context_str}\n",
    "              ---------------------\n",
    "              Given the context information above I want you to think\n",
    "              step by step to answer the query in a crisp manner,\n",
    "              incase you don't know the answer say 'I don't know!'\n",
    "            \n",
    "              Query: {query_str}\n",
    "        \n",
    "              Answer:\"\"\"\n",
    "\n",
    "qa_prompt_tmpl = PromptTemplate(template)"
   ]
  },
  {
   "cell_type": "code",
   "execution_count": 4,
   "metadata": {},
   "outputs": [
    {
     "data": {
      "application/vnd.jupyter.widget-view+json": {
       "model_id": "99ea70a200d140f39976111107e28f20",
       "version_major": 2,
       "version_minor": 0
      },
      "text/plain": [
       "config.json:   0%|          | 0.00/794 [00:00<?, ?B/s]"
      ]
     },
     "metadata": {},
     "output_type": "display_data"
    },
    {
     "name": "stderr",
     "output_type": "stream",
     "text": [
      "c:\\Users\\Bidhi\\AppData\\Local\\Programs\\Python\\Python311\\Lib\\site-packages\\huggingface_hub\\file_download.py:142: UserWarning: `huggingface_hub` cache-system uses symlinks by default to efficiently store duplicated files but your machine does not support them in C:\\Users\\Bidhi\\.cache\\huggingface\\hub\\models--cross-encoder--ms-marco-MiniLM-L-2-v2. Caching files will still work but in a degraded version that might require more space on your disk. This warning can be disabled by setting the `HF_HUB_DISABLE_SYMLINKS_WARNING` environment variable. For more details, see https://huggingface.co/docs/huggingface_hub/how-to-cache#limitations.\n",
      "To support symlinks on Windows, you either need to activate Developer Mode or to run Python as an administrator. In order to activate developer mode, see this article: https://docs.microsoft.com/en-us/windows/apps/get-started/enable-your-device-for-development\n",
      "  warnings.warn(message)\n"
     ]
    },
    {
     "data": {
      "application/vnd.jupyter.widget-view+json": {
       "model_id": "2cfff32ee7fa4e2fae128a9263e3d9f7",
       "version_major": 2,
       "version_minor": 0
      },
      "text/plain": [
       "model.safetensors:   0%|          | 0.00/62.5M [00:00<?, ?B/s]"
      ]
     },
     "metadata": {},
     "output_type": "display_data"
    },
    {
     "data": {
      "application/vnd.jupyter.widget-view+json": {
       "model_id": "fd6b899e88064fd7b7cb59018c36b359",
       "version_major": 2,
       "version_minor": 0
      },
      "text/plain": [
       "tokenizer_config.json:   0%|          | 0.00/316 [00:00<?, ?B/s]"
      ]
     },
     "metadata": {},
     "output_type": "display_data"
    },
    {
     "data": {
      "application/vnd.jupyter.widget-view+json": {
       "model_id": "25cc8a3d557a461fbc867a4f21f0c969",
       "version_major": 2,
       "version_minor": 0
      },
      "text/plain": [
       "vocab.txt:   0%|          | 0.00/232k [00:00<?, ?B/s]"
      ]
     },
     "metadata": {},
     "output_type": "display_data"
    },
    {
     "data": {
      "application/vnd.jupyter.widget-view+json": {
       "model_id": "582e30e0249b45d9be075ebdfb8a9005",
       "version_major": 2,
       "version_minor": 0
      },
      "text/plain": [
       "special_tokens_map.json:   0%|          | 0.00/112 [00:00<?, ?B/s]"
      ]
     },
     "metadata": {},
     "output_type": "display_data"
    }
   ],
   "source": [
    "from llama_index.core.postprocessor import SentenceTransformerRerank\n",
    "\n",
    "rerank = SentenceTransformerRerank(\n",
    "    model=\"cross-encoder/ms-marco-MiniLM-L-2-v2\", \n",
    "    top_n=3\n",
    ")"
   ]
  },
  {
   "cell_type": "code",
   "execution_count": 20,
   "metadata": {},
   "outputs": [
    {
     "name": "stdout",
     "output_type": "stream",
     "text": [
      "time taken for fill response is 3.5352823734283447\n"
     ]
    }
   ],
   "source": [
    "import time\n",
    "query_engine = index.as_query_engine(similarity_top_k=10,\n",
    "                                     node_postprocessors=[rerank])\n",
    "\n",
    "query_engine.update_prompts(\n",
    "    {\"response_synthesizer:text_qa_template\": qa_prompt_tmpl}\n",
    ")\n",
    "\n",
    "total_time_s = time.time()\n",
    "\n",
    "response = query_engine.query(\"What exactly is DSPy?\")\n",
    "\n",
    "total_time_e = time.time()\n",
    "total_time = total_time_e - total_time_s\n",
    "\n",
    "print(f\"time taken for fill response is {total_time}\")\n",
    "\n"
   ]
  },
  {
   "cell_type": "code",
   "execution_count": 21,
   "metadata": {},
   "outputs": [
    {
     "data": {
      "text/markdown": [
       "DSPy stands for \"Deep Speech Programming Yout\". It appears to be a programming framework and model that allows developers to design, implement, and optimize large-scale natural language processing (NLP) systems using a declarative modeling approach."
      ],
      "text/plain": [
       "<IPython.core.display.Markdown object>"
      ]
     },
     "metadata": {},
     "output_type": "display_data"
    }
   ],
   "source": [
    "from IPython.display import Markdown, display\n",
    "\n",
    "display(Markdown(str(response)))"
   ]
  },
  {
   "cell_type": "code",
   "execution_count": 26,
   "metadata": {},
   "outputs": [
    {
     "name": "stdout",
     "output_type": "stream",
     "text": [
      "Time taken for similarity search: 0.1507 seconds\n",
      "Time taken for reranking: 0.1786 seconds\n",
      "Time taken for LLM response: 3.3454 seconds\n",
      "Total query time: 3.6758 seconds\n",
      "\n",
      "Response from LLM:\n",
      "DSPy stands for Deep Speech Processing and Prediction. It's a programming model developed by Stanford Natural Language Processing Group that aims to abstract prompting techniques into parameterized declarative modules, which can be used to implement natural language processing (NLP) pipelines.\n"
     ]
    }
   ],
   "source": [
    "import time\n",
    "from llama_index.core import QueryBundle\n",
    "\n",
    "query = \"What exactly is DSPy?\"\n",
    "query_bundle = QueryBundle(query_str=query)\n",
    "\n",
    "# Measure total query time\n",
    "start_time = time.time()\n",
    "\n",
    "# Measure similarity search time\n",
    "sim_start_time = time.time()\n",
    "retrieved_docs = query_engine.retriever.retrieve(query) \n",
    "sim_time = time.time() - sim_start_time\n",
    "print(f\"Time taken for similarity search: {sim_time:.4f} seconds\")\n",
    "\n",
    "# Measure reranking time\n",
    "rerank_start_time = time.time()\n",
    "reranked_docs = rerank.postprocess_nodes(retrieved_docs, query_bundle=query_bundle)\n",
    "rerank_time = time.time() - rerank_start_time\n",
    "print(f\"Time taken for reranking: {rerank_time:.4f} seconds\")\n",
    "\n",
    "# Measure LLM response time\n",
    "llm_start_time = time.time()\n",
    "response = query_engine.synthesize(query_bundle, nodes=reranked_docs)\n",
    "llm_time = time.time() - llm_start_time\n",
    "print(f\"Time taken for LLM response: {llm_time:.4f} seconds\")\n",
    "\n",
    "# Total time\n",
    "total_time = time.time() - start_time\n",
    "print(f\"Total query time: {total_time:.4f} seconds\")\n",
    "\n",
    "# Print the final response\n",
    "print(\"\\nResponse from LLM:\")\n",
    "print(response)\n"
   ]
  },
  {
   "cell_type": "code",
   "execution_count": null,
   "metadata": {},
   "outputs": [],
   "source": []
  },
  {
   "cell_type": "code",
   "execution_count": null,
   "metadata": {},
   "outputs": [],
   "source": []
  }
 ],
 "metadata": {
  "kernelspec": {
   "display_name": "Python 3",
   "language": "python",
   "name": "python3"
  },
  "language_info": {
   "codemirror_mode": {
    "name": "ipython",
    "version": 3
   },
   "file_extension": ".py",
   "mimetype": "text/x-python",
   "name": "python",
   "nbconvert_exporter": "python",
   "pygments_lexer": "ipython3",
   "version": "3.11.0"
  }
 },
 "nbformat": 4,
 "nbformat_minor": 4
}
